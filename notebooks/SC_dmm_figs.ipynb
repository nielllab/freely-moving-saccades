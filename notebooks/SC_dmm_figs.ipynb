{
 "cells": [
  {
   "cell_type": "code",
   "execution_count": null,
   "metadata": {},
   "outputs": [],
   "source": [
    "import os\n",
    "import numpy as np\n",
    "import pandas as pd\n",
    "import matplotlib.pyplot as plt\n",
    "\n",
    "import saccadeAnalysis as sacc\n",
    "import fmEphys as fme\n",
    "\n",
    "sacc.set_plt_params()\n",
    "\n",
    "figprops = sacc.propsdict()\n",
    "colors = figprops['colors']\n",
    "psth_bins = figprops['psth_bins']"
   ]
  },
  {
   "cell_type": "code",
   "execution_count": null,
   "metadata": {},
   "outputs": [],
   "source": [
    "hffm = fme.read_group_h5(r'T:/freely_moving_ephys/SC/HfFm_processed_dataset_041524_19h-34m-00s.h5')\n",
    "ltdk = fme.read_group_h5(r'T:/freely_moving_ephys/SC/LtDk_processed_dataset_041524_19h-34m-12s.h5')"
   ]
  },
  {
   "cell_type": "code",
   "execution_count": null,
   "metadata": {},
   "outputs": [],
   "source": [
    "kcluster_names = ['early','late','biphasic','negative']\n",
    "\n",
    "fig, axs = plt.subplots(2,4, dpi=300, figsize=(9,4))\n",
    "\n",
    "for panel_row, cond_key in enumerate(['','dark_']):\n",
    "    for panel_col, psth_key in enumerate(kcluster_names):\n",
    "\n",
    "        use_psth_key = 'pref_{}gazeshift_psth'.format(cond_key)\n",
    "\n",
    "        n_ = 0\n",
    "        for ind, psth in ltdk[use_psth_key][ltdk['gazecluster']==psth_key][ltdk['gazeshift_responsive']==True].items():\n",
    "            axs[panel_row,panel_col].plot(\n",
    "                psth_bins,\n",
    "                psth,\n",
    "                '-', lw=1, alpha=0.3\n",
    "            )\n",
    "            n_ += 1\n",
    "\n",
    "        axs[panel_row, panel_col].plot(\n",
    "            psth_bins,\n",
    "            np.nanmean(fme.flatten_series(ltdk[use_psth_key][ltdk['gazecluster']==psth_key][ltdk['gazeshift_responsive']==True]),0),\n",
    "            '-', lw=3, color=colors[psth_key]\n",
    "        )\n",
    "\n",
    "        axs[panel_row, panel_col].set_xlim([-0.2, 0.4])\n",
    "        axs[panel_row, panel_col].set_ylim([-1, 1])\n",
    "        axs[panel_row, panel_col].vlines(0, -1, 1, color='k', ls='dashed', lw=1)\n",
    "        axs[panel_row, panel_col].set_xticks(\n",
    "            np.linspace(-0.2, 0.4,4), labels=np.linspace(-200, 400, 4).astype(int)\n",
    "        )\n",
    "        if panel_row==0:\n",
    "            axs[panel_row, panel_col].set_title('{} n={}'.format(psth_key, n_))\n",
    "        axs[panel_row, panel_col].set_xlabel('Time (ms)')\n",
    "        axs[panel_row, panel_col].set_ylabel('normalized sp/s')\n",
    "\n",
    "fig.tight_layout()"
   ]
  },
  {
   "cell_type": "code",
   "execution_count": null,
   "metadata": {},
   "outputs": [],
   "source": [
    "28+19+11+26"
   ]
  },
  {
   "cell_type": "code",
   "execution_count": null,
   "metadata": {},
   "outputs": [],
   "source": []
  }
 ],
 "metadata": {
  "kernelspec": {
   "display_name": "rte1",
   "language": "python",
   "name": "python3"
  },
  "language_info": {
   "codemirror_mode": {
    "name": "ipython",
    "version": 3
   },
   "file_extension": ".py",
   "mimetype": "text/x-python",
   "name": "python",
   "nbconvert_exporter": "python",
   "pygments_lexer": "ipython3",
   "version": "3.9.18"
  }
 },
 "nbformat": 4,
 "nbformat_minor": 2
}
