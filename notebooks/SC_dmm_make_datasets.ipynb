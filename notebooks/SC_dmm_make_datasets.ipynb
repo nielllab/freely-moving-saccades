{
 "cells": [
  {
   "cell_type": "code",
   "execution_count": null,
   "metadata": {},
   "outputs": [],
   "source": [
    "import os\n",
    "import numpy as np\n",
    "import pandas as pd\n",
    "import matplotlib.pyplot as plt\n",
    "\n",
    "import saccadeAnalysis as sacc\n",
    "import fmEphys as fme"
   ]
  },
  {
   "cell_type": "code",
   "execution_count": null,
   "metadata": {},
   "outputs": [],
   "source": [
    "hffm_sessions = {\n",
    "    '040623_J637LT': fme.find('*ephys_props.h5', 'T:/freely_moving_ephys/SC/040623_J637LT')\n",
    "}\n",
    "\n",
    "ltdk_sessions = {\n",
    "    '021624_J685NC': fme.find('*ephys_props.h5', 'T:/freely_moving_ephys/SC/021624_J685NC/'),\n",
    "    '022324_J676RT': fme.find('*ephys_props.h5', 'T:/freely_moving_ephys/SC/022324_J676RT')\n",
    "}"
   ]
  },
  {
   "cell_type": "code",
   "execution_count": null,
   "metadata": {},
   "outputs": [],
   "source": [
    "hffm_df, hffm_arrs = sacc.make_hffm_dataset(\n",
    "    savepath='T:/freely_moving_ephys/SC',\n",
    "    session_dict=hffm_sessions,\n",
    "    km_model=r'T:\\freely_moving_ephys\\models\\KMeans_PSTH_model_062022.pickle',\n",
    "    pca_model=r'T:\\freely_moving_ephys\\models\\PCA_PSTH_model_062022.pickle'\n",
    ")"
   ]
  },
  {
   "cell_type": "code",
   "execution_count": null,
   "metadata": {},
   "outputs": [],
   "source": [
    "ltdk_df, ltdk_arrs = sacc.make_ltdk_dataset(\n",
    "    savepath='T:/freely_moving_ephys/SC',\n",
    "    session_dict=ltdk_sessions,\n",
    "    km_model=r'T:\\freely_moving_ephys\\models\\KMeans_PSTH_model_062022.pickle',\n",
    "    pca_model=r'T:\\freely_moving_ephys\\models\\PCA_PSTH_model_062022.pickle'\n",
    ")"
   ]
  },
  {
   "cell_type": "code",
   "execution_count": null,
   "metadata": {},
   "outputs": [],
   "source": []
  }
 ],
 "metadata": {
  "kernelspec": {
   "display_name": "rte1",
   "language": "python",
   "name": "python3"
  },
  "language_info": {
   "codemirror_mode": {
    "name": "ipython",
    "version": 3
   },
   "file_extension": ".py",
   "mimetype": "text/x-python",
   "name": "python",
   "nbconvert_exporter": "python",
   "pygments_lexer": "ipython3",
   "version": "3.9.18"
  }
 },
 "nbformat": 4,
 "nbformat_minor": 2
}
