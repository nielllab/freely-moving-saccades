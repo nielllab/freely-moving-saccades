{
 "cells": [
  {
   "cell_type": "code",
   "execution_count": 3,
   "metadata": {},
   "outputs": [
    {
     "name": "stdout",
     "output_type": "stream",
     "text": [
      "Loading DLC 2.3.0...\n"
     ]
    }
   ],
   "source": [
    "#%load_ext autoreload\n",
    "#%autoreload 2\n",
    "%matplotlib inline\n",
    "\n",
    "import os\n",
    "from tqdm import tqdm\n",
    "import numpy as np\n",
    "import pandas as pd\n",
    "import matplotlib.pyplot as plt\n",
    "\n",
    "import sys\n",
    "#sys.path.insert(0,r'c:\\Users\\Niell Lab\\Documents\\GitHub\\freely-moving-saccades-dev')\n",
    "import saccadeAnalysis as sacc\n",
    "\n",
    "import fmEphys as fme"
   ]
  },
  {
   "cell_type": "code",
   "execution_count": 7,
   "metadata": {},
   "outputs": [],
   "source": [
    "unitsummary_recordings = fme.find('*fm1_ephys_props.h5', r'\\\\goeppert\\nlab-nas\\Shelby\\012924\\J688TT')\n",
    "dfs = [pd.read_hdf(r) for r in unitsummary_recordings]"
   ]
  },
  {
   "cell_type": "code",
   "execution_count": 8,
   "metadata": {},
   "outputs": [],
   "source": [
    "dfs_unitsummary = sacc.add_stimuli_horizontally(dfs)"
   ]
  },
  {
   "cell_type": "code",
   "execution_count": 9,
   "metadata": {},
   "outputs": [],
   "source": [
    "dfs_unitsummary.to_hdf(r'\\\\goeppert\\nlab-nas\\Shelby\\012924\\J688TT\\light_unitsummarydata.h5', key='dfs') \n",
    "#run python -m saccadeAnalysis.unitSummary"
   ]
  }
 ],
 "metadata": {
  "kernelspec": {
   "display_name": "ephys3",
   "language": "python",
   "name": "python3"
  },
  "language_info": {
   "codemirror_mode": {
    "name": "ipython",
    "version": 3
   },
   "file_extension": ".py",
   "mimetype": "text/x-python",
   "name": "python",
   "nbconvert_exporter": "python",
   "pygments_lexer": "ipython3",
   "version": "3.8.12"
  }
 },
 "nbformat": 4,
 "nbformat_minor": 2
}
